{
 "cells": [
  {
   "cell_type": "code",
   "execution_count": 1,
   "metadata": {},
   "outputs": [
    {
     "name": "stdout",
     "output_type": "stream",
     "text": [
      "Collecting python-dp\n",
      "\u001b[?25l  Downloading https://files.pythonhosted.org/packages/dd/fb/7383d552f093c0cb0cc71a550eaa1c4bd504f3c62b267888c19ff0a8167d/python_dp-0.1.0-py2.py3-none-any.whl (3.6MB)\n",
      "\u001b[K     |████████████████████████████████| 3.6MB 1.3MB/s eta 0:00:01\n",
      "\u001b[?25hInstalling collected packages: python-dp\n",
      "Successfully installed python-dp-0.1.0\n"
     ]
    }
   ],
   "source": [
    "! pip install python-dp"
   ]
  },
  {
   "cell_type": "code",
   "execution_count": null,
   "metadata": {},
   "outputs": [],
   "source": []
  }
 ],
 "metadata": {
  "kernelspec": {
   "display_name": "Python 3",
   "language": "python",
   "name": "python3"
  },
  "language_info": {
   "codemirror_mode": {
    "name": "ipython",
    "version": 3
   },
   "file_extension": ".py",
   "mimetype": "text/x-python",
   "name": "python",
   "nbconvert_exporter": "python",
   "pygments_lexer": "ipython3",
   "version": "3.7.4"
  }
 },
 "nbformat": 4,
 "nbformat_minor": 2
}
